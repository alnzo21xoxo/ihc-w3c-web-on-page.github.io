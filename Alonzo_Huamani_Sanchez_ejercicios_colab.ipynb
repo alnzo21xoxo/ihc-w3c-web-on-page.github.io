{
  "cells": [
    {
      "cell_type": "markdown",
      "metadata": {
        "id": "view-in-github",
        "colab_type": "text"
      },
      "source": [
        "<a href=\"https://colab.research.google.com/github/alnzo21xoxo/ihc-w3c-web-on-page.github.io/blob/main/Alonzo_Huamani_Sanchez_ejercicios_colab.ipynb\" target=\"_parent\"><img src=\"https://colab.research.google.com/assets/colab-badge.svg\" alt=\"Open In Colab\"/></a>"
      ]
    },
    {
      "cell_type": "markdown",
      "source": [
        "1. Determinar el promedio de n notas"
      ],
      "metadata": {
        "id": "MS5zAyxjMnS6"
      }
    },
    {
      "cell_type": "code",
      "source": [
        "suma = 0\n",
        "canNotas = int(input(\"Ingrese cantidad de notas: \"))\n",
        "for x in range(canNotas):\n",
        "    suma += float(input(\"Ingrese una nota: \") )\n",
        "print(\"El promedio es:\", suma/canNotas)"
      ],
      "metadata": {
        "colab": {
          "base_uri": "https://localhost:8080/"
        },
        "id": "xo-JRpv8Ml8k",
        "outputId": "ba34ec5c-6a52-4135-d487-3a9807b02e22"
      },
      "execution_count": 2,
      "outputs": [
        {
          "output_type": "stream",
          "name": "stdout",
          "text": [
            "Ingrese cantidad de notas: 3\n",
            "Ingrese una nota: 15\n",
            "Ingrese una nota: 14\n",
            "Ingrese una nota: 20\n",
            "El promedio es: 16.333333333333332\n"
          ]
        }
      ]
    },
    {
      "cell_type": "markdown",
      "source": [
        "2. Determinar si un número es primo"
      ],
      "metadata": {
        "id": "qJ3gthDbMsFo"
      }
    },
    {
      "cell_type": "code",
      "source": [
        "def esPrimo(num):\n",
        "    if num < 1:\n",
        "        return False\n",
        "    elif num == 2:\n",
        "        return True\n",
        "    else:\n",
        "        for i in range(2, num):\n",
        "            if num % i == 0:\n",
        "                return False\n",
        "        return True            \n",
        "\n",
        "def resultado():\n",
        "    num = int(input('Ingrese el numero: '))\n",
        "    result = esPrimo(num)\n",
        "\n",
        "    if result is True:\n",
        "        print('Este numero es primo')\n",
        "    else:\n",
        "        print('Este numero no es Primo')\n",
        "resultado()"
      ],
      "metadata": {
        "colab": {
          "base_uri": "https://localhost:8080/"
        },
        "id": "zBaBqCsTMuRj",
        "outputId": "9c491a23-240b-486d-d02f-0bbba7ab00d7"
      },
      "execution_count": 3,
      "outputs": [
        {
          "output_type": "stream",
          "name": "stdout",
          "text": [
            "Ingrese el numero: 15\n",
            "Este numero no es Primo\n"
          ]
        }
      ]
    },
    {
      "cell_type": "markdown",
      "source": [
        "3. Leer un año, y determinar si es bisiesto"
      ],
      "metadata": {
        "id": "MZJE2hwqMxdf"
      }
    },
    {
      "cell_type": "code",
      "source": [
        "año = int(input('Introduce un año: '))\n",
        "\n",
        "if año % 4 == 0:\n",
        "    if año % 100 == 0:\n",
        "        if año % 400 == 0:\n",
        "            print('El año es bisiesto')\n",
        "        else:\n",
        "            print('El año no es bisiesto')\n",
        "    else:\n",
        "        print('El año es bisiesto.')\n",
        "else:\n",
        "    print('El año no es bisiesto.')"
      ],
      "metadata": {
        "colab": {
          "base_uri": "https://localhost:8080/"
        },
        "id": "A6nfSfJTMz5o",
        "outputId": "e4c44641-ed26-4497-85ae-5f1de7b9d6e4"
      },
      "execution_count": 4,
      "outputs": [
        {
          "output_type": "stream",
          "name": "stdout",
          "text": [
            "Introduce un año: 2025\n",
            "El año no es bisiesto.\n"
          ]
        }
      ]
    },
    {
      "cell_type": "markdown",
      "source": [
        "4. Leer un texto y determinar la cantidad de vocales y consonantes."
      ],
      "metadata": {
        "id": "ZuXN9FrUM1Ko"
      }
    },
    {
      "cell_type": "code",
      "source": [
        "texto = input(\"ingrese un texto: \")\n",
        "vocales = 0\n",
        "consonantes = 0\n",
        "texto.lower()\n",
        "\n",
        "for i in texto:\n",
        "    if(ord(i) == 65 or ord(i) == 69 or ord(i) == 73\n",
        "       or ord(i) == 79 or ord(i) == 85\n",
        "       or ord(i) == 97 or ord(i) == 101 or ord(i) == 105\n",
        "       or ord(i) == 111 or ord(i) == 117):\n",
        "        vocales = vocales + 1\n",
        "    elif((ord(i) >= 97 and ord(i) <= 122) or (ord(i) >= 65 and ord(i) <= 90)):\n",
        "        consonantes = consonantes + 1\n",
        " \n",
        "print(\"Total de vocales = \", vocales)\n",
        "print(\"Total de consonates = \", consonantes)"
      ],
      "metadata": {
        "colab": {
          "base_uri": "https://localhost:8080/"
        },
        "id": "_GINecqMM3ZQ",
        "outputId": "3a8c4712-aafb-4380-8529-8ad13bc6f80a"
      },
      "execution_count": 6,
      "outputs": [
        {
          "output_type": "stream",
          "name": "stdout",
          "text": [
            "ingrese un texto: inteligencia artificial\n",
            "Total de vocales =  11\n",
            "Total de consonates =  11\n"
          ]
        }
      ]
    }
  ],
  "metadata": {
    "colab": {
      "provenance": [],
      "include_colab_link": true
    },
    "kernelspec": {
      "display_name": "Python 3",
      "name": "python3"
    }
  },
  "nbformat": 4,
  "nbformat_minor": 0
}