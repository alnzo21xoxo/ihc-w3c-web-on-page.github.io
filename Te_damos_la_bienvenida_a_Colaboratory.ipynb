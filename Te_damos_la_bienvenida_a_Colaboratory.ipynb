{
  "cells": [
    {
      "cell_type": "markdown",
      "metadata": {
        "id": "view-in-github",
        "colab_type": "text"
      },
      "source": [
        "<a href=\"https://colab.research.google.com/github/alnzo21xoxo/ihc-w3c-web-on-page.github.io/blob/main/Te_damos_la_bienvenida_a_Colaboratory.ipynb\" target=\"_parent\"><img src=\"https://colab.research.google.com/assets/colab-badge.svg\" alt=\"Open In Colab\"/></a>"
      ]
    },
    {
      "cell_type": "code",
      "source": [
        "letras = [\"A\",\"B\",\"C\"\"\",\"D\",\"E\"]"
      ],
      "metadata": {
        "id": "o_VcZ1DsBNKh"
      },
      "execution_count": 1,
      "outputs": []
    },
    {
      "cell_type": "code",
      "source": [
        "for i in letras:\n",
        "  print(i, end = \"\")"
      ],
      "metadata": {
        "id": "EYytXEl6Bhqp",
        "outputId": "1e23039e-ce64-459e-c77e-1c01ca3e5bfa",
        "colab": {
          "base_uri": "https://localhost:8080/"
        }
      },
      "execution_count": 4,
      "outputs": [
        {
          "output_type": "stream",
          "name": "stdout",
          "text": [
            "ABCDE"
          ]
        }
      ]
    },
    {
      "cell_type": "code",
      "source": [
        "for i in letras:\n",
        "  print(i)"
      ],
      "metadata": {
        "id": "ZqValpyyByax",
        "outputId": "cb2d6b5a-23a4-4ff2-d347-de069897a07b",
        "colab": {
          "base_uri": "https://localhost:8080/"
        }
      },
      "execution_count": 5,
      "outputs": [
        {
          "output_type": "stream",
          "name": "stdout",
          "text": [
            "A\n",
            "B\n",
            "C\n",
            "D\n",
            "E\n"
          ]
        }
      ]
    },
    {
      "cell_type": "code",
      "source": [
        "for i in range(len(letras)):\n",
        "  print(letras[i],end=\" \")"
      ],
      "metadata": {
        "id": "v2s2oXzQB16h",
        "outputId": "b1fc60dd-7b11-4ab7-b69f-e015625604cc",
        "colab": {
          "base_uri": "https://localhost:8080/"
        }
      },
      "execution_count": 7,
      "outputs": [
        {
          "output_type": "stream",
          "name": "stdout",
          "text": [
            "A B C D E "
          ]
        }
      ]
    },
    {
      "cell_type": "code",
      "source": [
        "def suma(x,y):\n",
        "  R = x+y\n",
        "  return R\n",
        "def resta(x,y):\n",
        "  R =x-y\n",
        "  return R\n",
        "def operaciones(x,y,funcion):\n",
        "    R=funcion(x,y)\n",
        "    return R\n"
      ],
      "metadata": {
        "id": "f71j8mWxCPyA"
      },
      "execution_count": 8,
      "outputs": []
    },
    {
      "cell_type": "code",
      "source": [
        "R=resta(12,4)\n",
        "print(\"la rsta es:\",R)\n",
        "\n",
        "R=suma(12,4)\n",
        "print(\"la suma es:\",R)\n",
        "\n",
        "##R=operaciones(12,4)\n",
        "##print(\"la operacion es:\",R)"
      ],
      "metadata": {
        "id": "mIwH6oBDC0y7",
        "outputId": "0bb10c62-1cb4-4668-eac4-b2cd13a423a5",
        "colab": {
          "base_uri": "https://localhost:8080/"
        }
      },
      "execution_count": 13,
      "outputs": [
        {
          "output_type": "stream",
          "name": "stdout",
          "text": [
            "la rsta es: 8\n",
            "la suma es: 16\n"
          ]
        }
      ]
    },
    {
      "cell_type": "code",
      "source": [],
      "metadata": {
        "id": "sUvVOdhaDZZz"
      },
      "execution_count": null,
      "outputs": []
    }
  ],
  "metadata": {
    "colab": {
      "name": "Te damos la bienvenida a Colaboratory",
      "toc_visible": true,
      "provenance": [],
      "include_colab_link": true
    },
    "kernelspec": {
      "display_name": "Python 3",
      "name": "python3"
    }
  },
  "nbformat": 4,
  "nbformat_minor": 0
}